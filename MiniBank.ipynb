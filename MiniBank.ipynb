{
 "cells": [
  {
   "cell_type": "code",
   "execution_count": null,
   "id": "4e4c2c24-9c35-4a1b-8c8c-0b99c95567f0",
   "metadata": {},
   "outputs": [],
   "source": [
    "#Bank Management System\n",
    "\n",
    "class miniBank:\n",
    "    \n",
    "    def __init__(self,account_number,account_holder,balance=0):\n",
    "        self.account_number = account_number\n",
    "        self.account_holder = account_holder\n",
    "        self.balance = balance\n",
    "\n",
    "    #Deposit Operation\n",
    "    def deposit(self,amount):\n",
    "        if amount>0:\n",
    "            self.balance += amount\n",
    "            print(f\"Deposited: {amount}. New Balance: {self.balance}\")\n",
    "        else:\n",
    "            print(\"Deposit amount must be positive\")\n",
    "\n",
    "    #Withdraw Operation\n",
    "    def withdraw(self,amount):\n",
    "        if amount>self.balance:\n",
    "            print(\"Insufficient Balance\")\n",
    "        elif amount <= 0:\n",
    "            print(\"Withdraw amount must be positive\")\n",
    "        else:\n",
    "            self.balance -= amount\n",
    "            print(f\"Withdrawl: {amount}. New Balance: {self.balance}\")\n",
    "             \n",
    "    #Display Balance\n",
    "    def checkBalance(self):\n",
    "        print(f\"Account Balance: {self.balance}\")\n",
    "\n",
    "    #Display Account Details\n",
    "    def account_details(self):\n",
    "        print(f\"Account Number: {self.account_number}\")\n",
    "        print(f\"Account Holder: {self.account_holder}\")\n",
    "        print(f\"Balance: {self.balance}\")\n",
    "\n",
    "acc1 = miniBank(\"12345\",\"Tejas Ghadge\",1000)\n",
    "print(\"----------Deposit Operation----------\")\n",
    "acc1.deposit(2000)\n",
    "acc1.checkBalance()\n",
    "\n",
    "print()\n",
    "print(\"---------Withdraw Opeartion----------\")\n",
    "acc1.withdraw(500)\n",
    "acc1.checkBalance()\n",
    "\n",
    "print()\n",
    "print(\"---------Account Details----------\")\n",
    "acc1.account_details()"
   ]
  }
 ],
 "metadata": {
  "kernelspec": {
   "display_name": "Python 3 (ipykernel)",
   "language": "python",
   "name": "python3"
  },
  "language_info": {
   "codemirror_mode": {
    "name": "ipython",
    "version": 3
   },
   "file_extension": ".py",
   "mimetype": "text/x-python",
   "name": "python",
   "nbconvert_exporter": "python",
   "pygments_lexer": "ipython3",
   "version": "3.12.4"
  }
 },
 "nbformat": 4,
 "nbformat_minor": 5
}
